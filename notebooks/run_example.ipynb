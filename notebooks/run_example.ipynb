{
 "cells": [
  {
   "cell_type": "code",
   "execution_count": null,
   "id": "de73bb9e-0b55-4c5c-adaf-2b28df6757ce",
   "metadata": {
    "editable": true,
    "slideshow": {
     "slide_type": ""
    },
    "tags": []
   },
   "outputs": [],
   "source": [
    "import pandas as pd\n",
    "import networkx as nx\n",
    "import matplotlib.pyplot as plt\n",
    "\n",
    "from intersectomics.utils import add_cols_multi_index\n",
    "from intersectomics.bootstrap_corr import bootstrap_spearman_corr_parrallel\n",
    "from intersectomics.plot import plot_time_single_omics_layer, plot_time_multiple_omics_layers\n",
    "from intersectomics.graph import make_intersection_graph"
   ]
  },
  {
   "cell_type": "markdown",
   "id": "f53e610e-ec81-4736-b71a-df90665ccfb9",
   "metadata": {},
   "source": [
    "In this example, we will use the data extracted from the following [paper](https://www.sciencedirect.com/science/article/pii/S0048969723003558) and calculate all spearman correlations between all possible pairs of transcripts and all possible pairs of proteins considering that the data contains replicates. From that, we will build a graph where the nodes are the transcripts/proteins and the nodes are the correlations values. We use a p-value of 0.05 as a cutoff to remove any insignificant results.\n",
    "\n",
    "The two graphs are then intersected to a combined graph that represents the significant correlation between the two data types. Finally, we perform a community analysis on the intersected graph and extract lists of genes/proteins that behave similarly. \n",
    "\n",
    "Note: One limitation of this method is the need for the index to match. That means you need a 1:1 match between a transcript name and a protein name."
   ]
  },
  {
   "cell_type": "code",
   "execution_count": null,
   "id": "c1b04fee-fac2-4f7d-8df0-b09a3213a0e3",
   "metadata": {
    "editable": true,
    "slideshow": {
     "slide_type": ""
    },
    "tags": []
   },
   "outputs": [],
   "source": [
    "# Read the data\n",
    "# in this example we use a subset of the full dataset to make things go faster\n",
    "norm_rna_seq = pd.read_csv('data/rna_norm_counts_small.csv.xz', index_col=0)\n",
    "metadata_rna_seq = pd.read_csv('data/rna_metadata.csv')\n",
    "\n",
    "# Combine the metadata and the coutn table for RNA-seq\n",
    "df_rna_seq = add_cols_multi_index(norm_rna_seq, metadata_rna_seq, 'series')\n",
    "# For this example, use the control and not treated samples\n",
    "df_rna_seq = df_rna_seq.loc[:,df_rna_seq.columns.get_level_values('treatment')=='control']"
   ]
  },
  {
   "cell_type": "code",
   "execution_count": null,
   "id": "2aeeeb62-8fbd-4dc1-b269-5374a46f2658",
   "metadata": {
    "editable": true,
    "slideshow": {
     "slide_type": ""
    },
    "tags": []
   },
   "outputs": [],
   "source": [
    "# Filter lowly expressed genes using CPM (counts per million)\n",
    "# TODO: use preset method in R\n",
    "total_counts = df_rna_seq.sum()\n",
    "cpm = df_rna_seq.divide(total_counts) * 1e6\n",
    "filtered_data = cpm[cpm > 1].dropna()\n",
    "cpm = None\n",
    "filtered_data = filtered_data.fillna(0.0)\n",
    "df_rna_seq = filtered_data\n",
    "filtered_data = None"
   ]
  },
  {
   "cell_type": "code",
   "execution_count": null,
   "id": "0d95284f-5e58-4760-afb7-52262ffa7e44",
   "metadata": {
    "editable": true,
    "slideshow": {
     "slide_type": ""
    },
    "tags": []
   },
   "outputs": [],
   "source": [
    "# Read the data\n",
    "# in this example we use a subset of the full dataset to make things go faster\n",
    "norm_protein = pd.read_csv('data/protein_norm_counts_small.csv.xz', index_col=0)\n",
    "metadata_protein = pd.read_csv('data/protein_metadata.csv')\n",
    "\n",
    "# Combine the metadata and the coutn table for preteins\n",
    "df_protein = add_cols_multi_index(norm_protein, metadata_protein, 'sample')\n",
    "# For this example, use the control and not treated samples\n",
    "df_protein = df_protein.loc[:,df_protein.columns.get_level_values('treatment')=='control']"
   ]
  },
  {
   "cell_type": "code",
   "execution_count": null,
   "id": "488ae176-abcb-41c4-8ce9-99712d2cbab8",
   "metadata": {
    "editable": true,
    "slideshow": {
     "slide_type": ""
    },
    "tags": []
   },
   "outputs": [],
   "source": [
    "# Change the names of the index for proteins to match the RNA-seq\n",
    "convert_names = pd.read_csv('data/name_convert.csv', index_col=0)\n",
    "c = convert_names.set_index('protein_name').to_dict()['gene_name']\n",
    "df_protein.index = [c[i] for i in df_protein.index]"
   ]
  },
  {
   "cell_type": "code",
   "execution_count": null,
   "id": "71b5abbf-9fd7-4839-9730-fe453315d75d",
   "metadata": {},
   "outputs": [],
   "source": [
    "# Ultimately we would like to study the intersection between the two data types, we \n",
    "# can remove any element that is not present in either\n",
    "df_rna_seq = df_rna_seq.loc[list(set(df_protein.index.unique()) & set(df_rna_seq.index.unique()))]\n",
    "df_protein = df_protein.loc[list(set(df_protein.index.unique()) & set(df_rna_seq.index.unique()))]"
   ]
  },
  {
   "cell_type": "code",
   "execution_count": null,
   "id": "770f4b43-af66-408b-b5d3-d1719dde206e",
   "metadata": {
    "editable": true,
    "slideshow": {
     "slide_type": ""
    },
    "tags": []
   },
   "outputs": [],
   "source": [
    "# Calculate the spearman correlation for all possible pairs of proteins\n",
    "protein_corr, protein_pvalues = bootstrap_spearman_correlation_parallel(\n",
    "    df_input=df_protein, \n",
    "    replicate_column_name='time', \n",
    "    n_processes=cpu_count()-1,\n",
    "    n_iterations=10,\n",
    "    chunk_size=10,\n",
    ")"
   ]
  },
  {
   "cell_type": "code",
   "execution_count": null,
   "id": "c5cd8262-29b2-4158-89f2-82444e72f454",
   "metadata": {
    "editable": true,
    "slideshow": {
     "slide_type": ""
    },
    "tags": []
   },
   "outputs": [],
   "source": [
    "# Calculate the spearman correlation for all possible pairs of RNA-seq \n",
    "rna_seq_corr, rna_seq_pvalues = bootstrap_spearman_correlation_parallel(\n",
    "    df_input=df_rna_seq, \n",
    "    replicate_column_name='timepoint', \n",
    "    n_processes=cpu_count()-1,\n",
    "    n_iterations=10,\n",
    "    chunk_size=10,\n",
    ")"
   ]
  },
  {
   "cell_type": "code",
   "execution_count": null,
   "id": "2215cc93-2a57-429f-b7ab-f2a4fbbf3f52",
   "metadata": {
    "editable": true,
    "slideshow": {
     "slide_type": ""
    },
    "tags": []
   },
   "outputs": [],
   "source": [
    "G_inter, community_dict = make_intersection_graph(\n",
    "    corrs=[rna_seq_corr, protein_corr],\n",
    "    pvalues=[rna_seq_pvalues, protein_pvalues],\n",
    "    \n",
    ")"
   ]
  },
  {
   "cell_type": "code",
   "execution_count": null,
   "id": "c251e2a5-ce63-4727-931f-81aff79fad1e",
   "metadata": {
    "editable": true,
    "slideshow": {
     "slide_type": ""
    },
    "tags": []
   },
   "outputs": [],
   "source": [
    "import numpy as np\n",
    "import matplotlib.cm as cm\n",
    "\n",
    "comm = np.unique([community_dict[i] for i in community_dict])\n",
    "cmap = cm.get_cmap('hsv', len(comm))\n",
    "\n",
    "pos = nx.spring_layout(G_inter)\n",
    "plt.figure(3,figsize=(45,35)) \n",
    "nx.draw(\n",
    "    G_inter, \n",
    "    pos = pos, \n",
    "    with_labels = True, \n",
    "    node_color = [cmap(community_dict[i]) for i in G_inter.nodes],\n",
    ")\n",
    "plt.show()"
   ]
  },
  {
   "cell_type": "code",
   "execution_count": null,
   "id": "97d7eacd-e2a6-46ae-b5a1-0e902af0ef3b",
   "metadata": {
    "editable": true,
    "slideshow": {
     "slide_type": ""
    },
    "tags": []
   },
   "outputs": [],
   "source": [
    "df_rna_seq.columns.names = ['Sample', 'series', 'time', 'treatment', 'file', 'condition']\n",
    "plot_time_multiple_omics_layers(\n",
    "    dfs=[df_protein, df_rna_seq],\n",
    "    dfs_names=['Protein', 'RNA-seq'],\n",
    "    col_replicate_name='time',\n",
    "    biomolecules=[i for i in community_dict if community_dict[i]==1],\n",
    "    num_col=2,\n",
    "    normalize=True,\n",
    "    plot_height=800,\n",
    "    plot_width=900,\n",
    ")"
   ]
  }
 ],
 "metadata": {
  "kernelspec": {
   "display_name": "Python 3 (ipykernel)",
   "language": "python",
   "name": "python3"
  },
  "language_info": {
   "codemirror_mode": {
    "name": "ipython",
    "version": 3
   },
   "file_extension": ".py",
   "mimetype": "text/x-python",
   "name": "python",
   "nbconvert_exporter": "python",
   "pygments_lexer": "ipython3",
   "version": "3.10.13"
  }
 },
 "nbformat": 4,
 "nbformat_minor": 5
}
